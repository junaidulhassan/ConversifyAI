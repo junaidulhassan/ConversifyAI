{
 "cells": [
  {
   "cell_type": "code",
   "execution_count": 1,
   "metadata": {},
   "outputs": [],
   "source": [
    "from scrap import Scraper"
   ]
  },
  {
   "cell_type": "code",
   "execution_count": 9,
   "metadata": {},
   "outputs": [],
   "source": [
    "url = \"https://numl.edu.pk/admissions\"\n",
    "scrp = Scraper(url)"
   ]
  },
  {
   "cell_type": "code",
   "execution_count": 10,
   "metadata": {},
   "outputs": [
    {
     "name": "stdout",
     "output_type": "stream",
     "text": [
      "NUML NUML ADMISSIONS FALL 2024 & SUMMER SHORT COURSES Advertisement FALL 2022 Faculty Wise Entry Test Schedule: Click Here to View * Eligible Candidates will be issued Admit Card for Entry Test only after due verification of documents and eligibility criteria as per advertisement. In case of any query, please call at 051-9265118, 051-9265119 or email at admissions@numl.edu.pk. GENERAL INSTRUCTIONS INSTRUCTIONS FOR REGULAR ADMISSIONS (Fall 2024): Islamabad:   Director Academics, NUML, Sector H-9, Islamabad. Telephone: (051-9265118,051-9265119), PABX:051- 9265100-10  (with extensions: 2504, 2402, 2403, 2404, 2406, 2407,    2401, 2409) Rawalpindi:   Khadim Hussain Road, Rawalpindi Cantt. Telephone: (051-5567125,051-5794512,051-8436060) Director Academics NUML, Sector H-9, Islamabad Tele: 051-9265118, 051-9265119, PABX 051-9265100-10 Ext # 2402, 2403, 2404, 2406, 2407, 2401, 2409 Khadim Hussain Road, Rawalpindi Cantt. Pakistan. Tele:051-5567125, 051-5794512, 051-8436060 Regional Director NUML, 36-B, Chinar Road, University Town, Peshawar Tele:091-9218380-81 Regional Director NUML, 21- E, Officers Colony, Khanewal Road, Multan Tele:061-9330461, 061-6510595, 0321-6510595 Regional Director NUML, 05 Kilo Meter, Main Jaranwala Road, Near Police Station Saddar, Faisalabad Tele:0304-1138532, 041-9330572, 041-2422572 Regional Director National University of Modern Languages Hyderabad Campus Unit No: 09 Latifabad, Hyderabad Tele:022-3820489, 022-3820490, 022-3820491 Regional Director NUML, St-3. Block-K, North Nazimabad, Karachi Tele:021-36721027 Regional Director NUML, Block-3, 2nd Floor, Aiwan-e-Iqbal, Egerton Road, Lahore Tele:042-99204588, 042-99202636 Regional Director NUML, Koila Phatak, Quetta Tele:081-2870212 Regional Director NUML, New City Mirpur, Azad Jammu and Kashmir Tele: 05827-940512 - 14 Registration for admission (MS/ MPhil/PhD/ Undergraduate/Functional Courses) of session fall 2022 will be opened from  June, 5th 2022 . National University of Modern Languages H-9 Islamabad ,Pakistan \n",
      " +92-51-9265100 \n",
      " \n",
      " info@numl.edu.pk +92-51-9265100 \n",
      " \n",
      " info@numl.edu.pk +92-51-9265100 info@numl.edu.pk NATIONAL UNIVERSITY OF MODERN LANGUAGES \n",
      " \n",
      " \n",
      " \n",
      " \n",
      " \n",
      " \n",
      " \n",
      " \n",
      " \n",
      " \n",
      " LMS \n",
      " \n",
      " \n",
      " \n",
      " \n",
      "                      Policies\n",
      "                     \n",
      " \n",
      " \n",
      "  NUML Policy on Protection Against Sexual Harassment (2020)  \n",
      "  HEC Policy on Protection Against Sexual Harassment (2020)  \n",
      "  Handout – Harassment Policy 2020  \n",
      "  Assessment/Examination and Admission Policy COVID-19  \n",
      "  NUML Online Education Policy  \n",
      "  Policy Guidelines for International Linkages (2017)  \n",
      "  NUML Right of Access to Information Policy (2018)  \n",
      "  Conflict of Interest Policy (2023)  \n",
      "  Intellectual Property Rights (IPR) Policy (2020)  \n",
      "  Examinations Rules - 2023  \n",
      "  SOP - NUML Official Accounts / Domains  \n",
      "  View All Policies    \n",
      " \n",
      " \n",
      " \n",
      " \n",
      " \n",
      "                      Research\n",
      "                     \n",
      " \n",
      " Journals \n",
      " \n",
      " Projects \n",
      " Thesis Defence \n",
      " Thesis Repository \n",
      " \n",
      " \n",
      " \n",
      " \n",
      "                      Publications\n",
      "                     \n",
      " \n",
      " Newsletters \n",
      " Books \n",
      " Annual Reports \n",
      " \n",
      " \n",
      " \n",
      " \n",
      " \n",
      "                      Libraries\n",
      "                     \n",
      " \n",
      " OPAC \n",
      " Digital Library (HEC) \n",
      " Off-Campus Access to Digital Library \n",
      " \n",
      " \n",
      " \n",
      " \n",
      " \n",
      " \n",
      "                      NUML Live\n",
      "                     \n",
      " \n",
      " NUML FM Radio \n",
      " NUML TV \n",
      " \n",
      " \n",
      " \n",
      " \n",
      " Tenders \n",
      " \n",
      " \n",
      " \n",
      " \n",
      " Jobs \n",
      " \n",
      " \n",
      " \n",
      " \n",
      " Contact Us Events \n",
      " Dates Undergraduate/MS/MPhil/PhD/Functional Courses - Registration opens \n",
      " June 03, 2024 Deadline for Submission of Online Applications (Fall 2024) has been Extended Till \n",
      " July 05, 2024 (03:00 P.M) Start of Classes – Fall 2024 \n",
      " September 09, 2024 Deadline for Submission of Online Applications (Summer 2024) \n",
      " June 24, 2024 Start of Classes (Summer 2024) \n",
      " July 08, 2024 Advertisement Fall 2024 \n",
      " Advertisement Summer 2024 \n",
      " Fee Schedule Regular Courses \n",
      " \n",
      " Model Papers \n",
      " \n",
      " \n",
      " \n",
      " \n",
      " \n",
      " Staff Login >> Advertisement Summer 2022 \n",
      " Fee Schedule Summer Courses Regular Admissions -  Fall 2024  \n",
      " Dates Undergraduate/MS/MPhil/PhD/Functional Courses - Registration opens \n",
      " June 03, 2024 Deadline for Submission of Online Applications  has been Extended Till \n",
      " July 05, 2024 (03:00 P.M) Entrance Test (All Degree Programs / Functional Courses) \n",
      " July 10-11, 2024 Display of Lists for Interviews \n",
      " July 22, 2024 Interviews (Degree Programs / Functional Courses) \n",
      " July 25-30, 2024 Display of Merit List \n",
      " August 06, 2024 Fee Submission \n",
      " August 06-15, 2024 Start of Classes – Fall 2024 \n",
      " September 09, 2024 Start of Classes – Fall 2024 (Weekend Programs)  \n",
      " September 14, 2024 Summer Short Courses Admissions -  2024  \n",
      " Dates Deadline for Submission of Online Applications \n",
      " June 24, 2024 Interviews  \n",
      " 2 6   Jun   202 4   at 8:30 a.m Display of F inal List   \n",
      " June  28,  202 4 Fee Submission  \n",
      " June  28 - July 04,  202 4 Start of Classes  \n",
      " July 08, 2024 ISLAMABAD \n",
      " NUML RAWALPINDI \n",
      " PESHAWAR \n",
      " MULTAN \n",
      " FAISALABAD Director Academics \n",
      " NUML, Sector H-9, Islamabad \n",
      " Tele: 051-9265118, 051-9265119, \n",
      " PABX 051-9265100-10 \n",
      " Ext # 2402, 2403, 2404, 2406, 2407, 2401, 2409 \n",
      " \n",
      " \n",
      " Khadim Hussain Road, Rawalpindi Cantt. Pakistan. \n",
      " Tele:051-5567125, 051-5794512, 051-8436060 \n",
      " \n",
      " \n",
      " Regional Director \n",
      " NUML, 36-B, Chinar Road, University Town, Peshawar \n",
      " Tele:091-9218380-81 \n",
      " \n",
      " \n",
      " Regional Director \n",
      " NUML, 21- E, Officers Colony, Khanewal Road, Multan \n",
      " Tele:061-9330461, 061-6510595, 0321-6510595 \n",
      " \n",
      " \n",
      " Regional Director \n",
      " NUML, 05 Kilo Meter, Main Jaranwala Road, Near Police Station Saddar, Faisalabad \n",
      " Tele:0304-1138532, 041-9330572, 041-2422572 HYDERABAD \n",
      " KARACHI \n",
      " LAHORE \n",
      " QUETTA \n",
      " MIRPUR (AJ&K) Regional Director \n",
      " National University of Modern Languages Hyderabad Campus Unit No: 09 Latifabad, Hyderabad \n",
      " Tele:022-3820489, 022-3820490, 022-3820491  \n",
      " \n",
      " \n",
      " Regional Director \n",
      " NUML, St-3. Block-K, North Nazimabad, Karachi \n",
      " Tele:021-36721027 \n",
      " \n",
      " \n",
      " Regional Director \n",
      " NUML, Block-3, 2nd Floor, Aiwan-e-Iqbal, Egerton Road, Lahore \n",
      " Tele:042-99204588, 042-99202636 \n",
      " \n",
      " \n",
      " Regional Director \n",
      " NUML, Koila Phatak, Quetta \n",
      " Tele:081-2870212 \n",
      " \n",
      " \n",
      " Regional Director \n",
      " NUML, New City Mirpur, Azad Jammu and Kashmir \n",
      " Tele: 05827-940512 - 14\n"
     ]
    }
   ],
   "source": [
    "print(scrp.scrape_website())"
   ]
  },
  {
   "cell_type": "code",
   "execution_count": 11,
   "metadata": {},
   "outputs": [],
   "source": [
    "from RAG_QnA import RAG_Model"
   ]
  },
  {
   "cell_type": "code",
   "execution_count": 12,
   "metadata": {},
   "outputs": [
    {
     "name": "stdout",
     "output_type": "stream",
     "text": [
      "The token has not been saved to the git credentials helper. Pass `add_to_git_credential=True` in this function directly or `--add-to-git-credential` if using via `huggingface-cli` if you want to set the git credential as well.\n",
      "Token is valid (permission: fineGrained).\n",
      "Your token has been saved to /home/junaid-ul-hassan/.cache/huggingface/token\n",
      "Login successful\n"
     ]
    }
   ],
   "source": [
    "rag_model = RAG_Model()\n",
    "rag_model.load_Database()"
   ]
  },
  {
   "cell_type": "code",
   "execution_count": 15,
   "metadata": {},
   "outputs": [
    {
     "name": "stderr",
     "output_type": "stream",
     "text": [
      "Number of requested results 50 is greater than number of elements in index 22, updating n_results = 22\n"
     ]
    },
    {
     "name": "stdout",
     "output_type": "stream",
     "text": [
      "1. Registration for Undergraduate/MS/MPhil/PhD/Functional Courses opens on June 03, 2024.\n",
      "        2. The deadline for submitting online applications for Fall 2024 has been extended till July 05, 2024 (03:00 P.M).\n",
      "        3. The entrance test for all degree programs and functional courses will be held in July.\n",
      "        4. The start of classes for Fall 2024 is scheduled for September 09, 2024.\n",
      "        5. The deadline for submitting online applications for Summer 2024 was June 24, 2024, and the start of classes began on July 08, 2024.\n",
      "        6. Additional information may be found at [NUML official website](http://www.numl.edu.pk/) or by contacting the regional directors.</s>\n"
     ]
    }
   ],
   "source": [
    "print(rag_model.generateResponse(prompt=\"Tell all important Deadlines?\"))"
   ]
  },
  {
   "cell_type": "code",
   "execution_count": 21,
   "metadata": {},
   "outputs": [],
   "source": []
  },
  {
   "cell_type": "code",
   "execution_count": null,
   "metadata": {},
   "outputs": [],
   "source": []
  },
  {
   "cell_type": "code",
   "execution_count": null,
   "metadata": {},
   "outputs": [],
   "source": []
  },
  {
   "cell_type": "code",
   "execution_count": null,
   "metadata": {},
   "outputs": [],
   "source": []
  }
 ],
 "metadata": {
  "kernelspec": {
   "display_name": "Python 3 (ipykernel)",
   "language": "python",
   "name": "python3"
  },
  "language_info": {
   "codemirror_mode": {
    "name": "ipython",
    "version": 3
   },
   "file_extension": ".py",
   "mimetype": "text/x-python",
   "name": "python",
   "nbconvert_exporter": "python",
   "pygments_lexer": "ipython3",
   "version": "3.11.7"
  }
 },
 "nbformat": 4,
 "nbformat_minor": 4
}
