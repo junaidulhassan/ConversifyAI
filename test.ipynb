{
 "cells": [
  {
   "cell_type": "code",
   "execution_count": 1,
   "metadata": {},
   "outputs": [],
   "source": [
    "from scrap import Scraper\n",
    "from RAG_QnA import RAG_Model"
   ]
  },
  {
   "cell_type": "code",
   "execution_count": 10,
   "metadata": {},
   "outputs": [],
   "source": [
    "url = \"https://www.nu.edu.pk/Admissions/HowToApply\"\n",
    "scrp = Scraper(url)"
   ]
  },
  {
   "cell_type": "code",
   "execution_count": 11,
   "metadata": {},
   "outputs": [
    {
     "name": "stdout",
     "output_type": "stream",
     "text": [
      "The procedure for admission is as follows: Information on various Admission Tests is available on the University’s admission web-site\n",
      "                             \n",
      " admissions.nu.edu.pk The online admission test is taken on a computer. The candidate should be familiar with the use of mouse and the keyboard. Each candidate is given a different examination. The sections of a test (English, Analytical skills, Math etc) appear in a random sequence. Moreover, questions related to different topics also appear before the candidate in a random sequence. In each section, a candidate can move forward and backwards to review the responses selected. The candidate can change his or her response to any question within the current section. Each section of the admission test has a fixed duration. Each section is timed independently and time saved in one section is not carried forward to the next sections. At the end of the test, a summary of the results is displayed on screen. The duration of the Online Admission Test is between two and three hours. Applicants should reach the test centre on the date and time specified on the admit card. Latecomers will not be allowed to take the test. Applicants should not bring anything to the test centre except their Admit Cards. No applicant will be allowed to take the test without an endorsed Admit Card. The Admission Test is held at all campuses of the University (Karachi, Lahore, Islamabad, and Peshawar). Click Here \n",
      "  for Selection Criteria. The selected candidates are informed through SMS on their cell phones and also via email. The candidates should check the status of their admission from the University web site  \n",
      " admissions.nu.edu.pk \n",
      "  or  \n",
      " www.nu.edu.pk \n",
      " . At the time of admission, foreign nationals must submit a No Objection Certificate (NOC) from the Ministry of Education, Government of Pakistan. The procedure for admission is as follows: The selected candidates are informed through SMS on their cell phones and also via email. The candidates should check the status of their admission from the University web site  \n",
      " admissions.nu.edu.pk \n",
      "  or  \n",
      " www.nu.edu.pk \n",
      " . At the time of admission, foreign nationals must submit a No Objection Certificate (NOC) from the Ministry of Education, Government of Pakistan. Those who have taken SAT examination can apply for admission to the undergraduate programs, i.e. BBA or BS. Those who have taken the GRE (subject test) can apply for admission to graduate programs, i.e. MS, MBA or PhD. Click here to Apply Online The Institution code for receiving SAT scores is 4575 The Institution code for receiving GRE scores is 7386 FAST-House Rohtas Road, G-9/4 Islamabad - 44000\n"
     ]
    }
   ],
   "source": [
    "print(scrp.scrape_website())"
   ]
  },
  {
   "cell_type": "code",
   "execution_count": 6,
   "metadata": {},
   "outputs": [
    {
     "name": "stderr",
     "output_type": "stream",
     "text": [
      "2024-07-30 10:49:26.495117: E external/local_xla/xla/stream_executor/cuda/cuda_fft.cc:485] Unable to register cuFFT factory: Attempting to register factory for plugin cuFFT when one has already been registered\n",
      "2024-07-30 10:49:26.519970: E external/local_xla/xla/stream_executor/cuda/cuda_dnn.cc:8454] Unable to register cuDNN factory: Attempting to register factory for plugin cuDNN when one has already been registered\n",
      "2024-07-30 10:49:26.527135: E external/local_xla/xla/stream_executor/cuda/cuda_blas.cc:1452] Unable to register cuBLAS factory: Attempting to register factory for plugin cuBLAS when one has already been registered\n",
      "2024-07-30 10:49:28.265791: W tensorflow/compiler/tf2tensorrt/utils/py_utils.cc:38] TF-TRT Warning: Could not find TensorRT\n"
     ]
    },
    {
     "name": "stdout",
     "output_type": "stream",
     "text": [
      "The token has not been saved to the git credentials helper. Pass `add_to_git_credential=True` in this function directly or `--add-to-git-credential` if using via `huggingface-cli` if you want to set the git credential as well.\n",
      "Token is valid (permission: fineGrained).\n",
      "Your token has been saved to /home/junaid-ul-hassan/.cache/huggingface/token\n",
      "Login successful\n"
     ]
    }
   ],
   "source": [
    "rag_model = RAG_Model()"
   ]
  },
  {
   "cell_type": "code",
   "execution_count": 12,
   "metadata": {},
   "outputs": [],
   "source": [
    "rag_model.load_Database()"
   ]
  },
  {
   "cell_type": "code",
   "execution_count": 14,
   "metadata": {},
   "outputs": [
    {
     "name": "stdout",
     "output_type": "stream",
     "text": [
      "1. Visit the official website [admissions.nu.edu.pk](http://www.admissions.nu.edu.pk) or [www.nu.edu.pk] to access the application portal.\n",
      "        2. Fill out the online application form with personal information, educational background, and work experience.\n",
      "        3. Pay the admission fee of Rs 30,000 (one-time) through the available payment methods.\n",
      "        4. Submit supporting documents like No Objection Certificate (for foreign nationals), transcripts, and test scores such as SAT for undergraduates and GRE for graduates.\n",
      "        5. Upload the completed application and required documents, then click submit.\n",
      "        6. You will receive an acknowledgement email after successful submission, followed by further instructions.\n",
      "        7. Check your email regularly for updates regarding your application status.</s>\n"
     ]
    }
   ],
   "source": [
    "print(rag_model.generateResponse(prompt=\"How are to apply for univeristy?\"))"
   ]
  },
  {
   "cell_type": "code",
   "execution_count": 13,
   "metadata": {},
   "outputs": [
    {
     "name": "stdout",
     "output_type": "stream",
     "text": [
      "Human: Tell me Fee structures for masters in computer science?\n",
      "AI: 1. Admission Fee: Rs 30,000 (one-time), waived for graduates of the same university.\n",
      "        2. Refundable Security Deposit: Rs 20,000.\n",
      "        3. Tuition Fee per credit hour: Not specified in the provided context, revised annually.\n",
      "        4. Student Activities Fund: Rs 2,500 per semester.\n",
      "        5. Miscellaneous fees include Additional Transcript Fee (Rs. 300), Campus Transfer Fee (Rs. 5,000), Temporary Campus Transfer Fee (Rs. 2,000), Degree Correction Fee (Rs. 2,000), Semester Freeze Fee (Rs. 2,000 if registered within two weeks of classes start), Late Registration Fee/Freeze Fee/Course Withdrawal (not specified).\n",
      "        6. Scholarships are available for top performers and the HEC, Government of Punjab, and other organizations offer financial assistance for MS & PhD degrees.</s>\n"
     ]
    }
   ],
   "source": [
    "print(rag_model.window_mem.buffer_as_str)"
   ]
  },
  {
   "cell_type": "code",
   "execution_count": null,
   "metadata": {},
   "outputs": [],
   "source": []
  },
  {
   "cell_type": "code",
   "execution_count": null,
   "metadata": {},
   "outputs": [],
   "source": []
  },
  {
   "cell_type": "code",
   "execution_count": null,
   "metadata": {},
   "outputs": [],
   "source": []
  }
 ],
 "metadata": {
  "kernelspec": {
   "display_name": "Python 3 (ipykernel)",
   "language": "python",
   "name": "python3"
  },
  "language_info": {
   "codemirror_mode": {
    "name": "ipython",
    "version": 3
   },
   "file_extension": ".py",
   "mimetype": "text/x-python",
   "name": "python",
   "nbconvert_exporter": "python",
   "pygments_lexer": "ipython3",
   "version": "3.11.7"
  }
 },
 "nbformat": 4,
 "nbformat_minor": 4
}
