{
 "cells": [
  {
   "cell_type": "code",
   "execution_count": 1,
   "metadata": {},
   "outputs": [
    {
     "name": "stderr",
     "output_type": "stream",
     "text": [
      "2024-07-30 12:11:50.956326: E external/local_xla/xla/stream_executor/cuda/cuda_fft.cc:485] Unable to register cuFFT factory: Attempting to register factory for plugin cuFFT when one has already been registered\n",
      "2024-07-30 12:11:50.978257: E external/local_xla/xla/stream_executor/cuda/cuda_dnn.cc:8454] Unable to register cuDNN factory: Attempting to register factory for plugin cuDNN when one has already been registered\n",
      "2024-07-30 12:11:50.985040: E external/local_xla/xla/stream_executor/cuda/cuda_blas.cc:1452] Unable to register cuBLAS factory: Attempting to register factory for plugin cuBLAS when one has already been registered\n",
      "2024-07-30 12:11:52.214392: W tensorflow/compiler/tf2tensorrt/utils/py_utils.cc:38] TF-TRT Warning: Could not find TensorRT\n"
     ]
    }
   ],
   "source": [
    "from scrap import Scraper\n",
    "from RAG import RetrievalAugmentedGeneration\n",
    "scrp = Scraper()"
   ]
  },
  {
   "cell_type": "code",
   "execution_count": 2,
   "metadata": {},
   "outputs": [],
   "source": [
    "url = \"https://www.nu.edu.pk/Admissions/Scholarship\""
   ]
  },
  {
   "cell_type": "code",
   "execution_count": 3,
   "metadata": {},
   "outputs": [
    {
     "data": {
      "text/plain": [
       "\"Merit scholarship is awarded to the Top THREE position holders in each Group of each Examination Board. Scholarship is also offered to top three position holders in the merit list of NU admission merit list. This scholarship is for four years of un-interrupted studies with full course load and is equal to the full tuition fee.  Continuation of merit scholarship is subject to maintaining semester GPA of 3.0 or higher. The Higher Education Commission (HEC) provides liberal scholarships to students desirous of studying for the MS and PhD degrees at this university. The scholarship covers tuition fee, monthly stipend and book allowance. The Government of Punjab gives 42 scholarships to indigent students having domicile of Punjab. Newly admitted students in any campus of the university can apply for this scholarship. The scholarship is for 4-year undergraduate studies and covers some portion of the tuition fee. The remaining tuition fee can be given by the University as Qarz-e-Hasna. The Sindh Government offers scholarships to students of Karachi campus on need-cum-merit for both under-graduate and graduate studies. The scholarship covers full tuition fee for entire duration of the program, renewable every year. The quota for students from rural sector is 60%, and the remaining 40% is for the students from urban sector. About 25 new scholarships are offered every year under this scheme. Baluchistan Government offers scholarships to students of Karachi campus on need-cum-merit for both under-graduate and graduate studies. The scholarship covers full tuition fee for entire duration of the program, renewable every year. OSAF (Old Students Association of FAST) arranges financial assistance for those students who cannot afford to pay their full fee. In addition to the above scholarships there are various community based scholarships offered by various committees and foundations such as, Memon Community Scholarships, Bohra Community Scholarships, INFAQ Foundation scholarships, Agha Khan Foundation Scholarships, etc. For Karachi campus, Alumni Association, Hindu Community, and Agha Khan Foundation also provides scholarships in limited numbers. The University may utilize the services of its students in its different activities. These students are compensated for rendering their services. PICIC Commercial Bank, NIB Bank, Bank Alfalah, Bank Islami and MCB offer loans to students. Realizing that the fees may not be affordable for some of its students, FAST arranges financial assistance in the form of interest-free study loans for bright indigent students. This assistance is subject to renewal every semester in light of the student’s academic performance. Financial assistance is limited to tuition fee only and is discontinued if the student’s CGPA falls below the minimum specified to avoid warning. Loan recipients MUST take full load of courses offered. Applicants desirous of seeking study loan should apply for this purpose on the prescribed form available from all campuses or downloadable from the University web site. The repayment of loan starts three months after graduation or soon after getting employment, whichever is earlier. The total amount has to be repaid within a period of four years after graduation. Students are required to sign a contract allowing future employers to deduct loan repayments at source and remit it to the University. FAST-House Rohtas Road, G-9/4 Islamabad - 44000 Home Admissions \\n \\n \\n Offered Programs \\n \\n \\n Admission Schedule \\n \\n \\n How To Apply \\n \\n \\n Eligibility Criteria \\n \\n \\n Loans/Scholarships \\n \\n \\n Test Pattern \\n \\n \\n Fee Structure \\n \\n \\n Prospectus 2024 Offered Programs Admission Schedule How To Apply Eligibility Criteria Loans/Scholarships Test Pattern Fee Structure Prospectus 2024 Campuses \\n \\n \\n Chiniot-Faisalabad Campus \\n \\n \\n Home \\n \\n \\n Faculty & Staff \\n \\n \\n PhD Supervisors \\n \\n \\n Events \\n \\n \\n Medal Holders \\n \\n \\n Rector's List \\n \\n \\n Dean's List \\n \\n \\n Scholarship Awardees \\n \\n \\n EE Department (Mission Vision) \\n \\n \\n \\n \\n Islamabad Campus \\n \\n \\n Home \\n \\n \\n Faculty & Staff \\n \\n \\n PhD Supervisors \\n \\n \\n Events \\n \\n \\n Research \\n \\n \\n Medal Holders \\n \\n \\n Rector's List \\n \\n \\n Dean's List \\n \\n \\n Scholarship Awardees \\n \\n \\n EE Department (Mission Vision) \\n \\n \\n \\n \\n Karachi Campus \\n \\n \\n Home \\n \\n \\n Faculty & Staff \\n \\n \\n PhD Supervisors \\n \\n \\n Events \\n \\n \\n Research \\n \\n \\n Medal Holders \\n \\n \\n Rector's List \\n \\n \\n Dean's List \\n \\n \\n Scholarship Awardees \\n \\n \\n EE Department (Mission Vision) \\n \\n \\n \\n \\n Lahore Campus \\n \\n \\n Home \\n \\n \\n Faculty & Staff \\n \\n \\n PhD Supervisors \\n \\n \\n Events \\n \\n \\n Research \\n \\n \\n Medal Holders \\n \\n \\n Rector's List \\n \\n \\n Dean's List \\n \\n \\n Scholarship Awardees \\n \\n \\n Civil Engg. Department (Mission Vision) \\n \\n \\n EE Department (Mission Vision) \\n \\n \\n \\n \\n Peshawar Campus \\n \\n \\n Home \\n \\n \\n Faculty & Staff \\n \\n \\n PhD Supervisors \\n \\n \\n Events \\n \\n \\n Research \\n \\n \\n Medal Holders \\n \\n \\n Rector's List \\n \\n \\n Dean's List \\n \\n \\n Scholarship Awardees \\n \\n \\n EE Department (Mission Vision) Chiniot-Faisalabad Campus \\n \\n \\n Home \\n \\n \\n Faculty & Staff \\n \\n \\n PhD Supervisors \\n \\n \\n Events \\n \\n \\n Medal Holders \\n \\n \\n Rector's List \\n \\n \\n Dean's List \\n \\n \\n Scholarship Awardees \\n \\n \\n EE Department (Mission Vision) Home Faculty & Staff PhD Supervisors Events Medal Holders Rector's List Dean's List Scholarship Awardees EE Department (Mission Vision) Islamabad Campus \\n \\n \\n Home \\n \\n \\n Faculty & Staff \\n \\n \\n PhD Supervisors \\n \\n \\n Events \\n \\n \\n Research \\n \\n \\n Medal Holders \\n \\n \\n Rector's List \\n \\n \\n Dean's List \\n \\n \\n Scholarship Awardees \\n \\n \\n EE Department (Mission Vision) Home Faculty & Staff PhD Supervisors Events Research Medal Holders Rector's List Dean's List Scholarship Awardees EE Department (Mission Vision) Karachi Campus \\n \\n \\n Home \\n \\n \\n Faculty & Staff \\n \\n \\n PhD Supervisors \\n \\n \\n Events \\n \\n \\n Research \\n \\n \\n Medal Holders \\n \\n \\n Rector's List \\n \\n \\n Dean's List \\n \\n \\n Scholarship Awardees \\n \\n \\n EE Department (Mission Vision) Home Faculty & Staff PhD Supervisors Events Research Medal Holders Rector's List Dean's List Scholarship Awardees EE Department (Mission Vision) Lahore Campus \\n \\n \\n Home \\n \\n \\n Faculty & Staff \\n \\n \\n PhD Supervisors \\n \\n \\n Events \\n \\n \\n Research \\n \\n \\n Medal Holders \\n \\n \\n Rector's List \\n \\n \\n Dean's List \\n \\n \\n Scholarship Awardees \\n \\n \\n Civil Engg. Department (Mission Vision) \\n \\n \\n EE Department (Mission Vision) Home Faculty & Staff PhD Supervisors Events Research Medal Holders Rector's List Dean's List Scholarship Awardees Civil Engg. Department (Mission Vision) EE Department (Mission Vision) Peshawar Campus \\n \\n \\n Home \\n \\n \\n Faculty & Staff \\n \\n \\n PhD Supervisors \\n \\n \\n Events \\n \\n \\n Research \\n \\n \\n Medal Holders \\n \\n \\n Rector's List \\n \\n \\n Dean's List \\n \\n \\n Scholarship Awardees \\n \\n \\n EE Department (Mission Vision) Home Faculty & Staff PhD Supervisors Events Research Medal Holders Rector's List Dean's List Scholarship Awardees EE Department (Mission Vision) Students \\n \\n \\n Degree Verification Program \\n \\n \\n Academic Calendar\\r\\n \\n \\n \\n Code of Conduct \\n \\n \\n Grading \\n \\n \\n Student Chapters \\n \\n \\n IEEE-NUCES \\n \\n \\n NUCES-ACM \\n \\n \\n \\n \\n Rules & Regulations \\n \\n \\n Bachelor Programs \\n \\n \\n PhD Programs \\n \\n \\n \\n \\n Flex Student Module \\n \\n \\n Phd Graduates \\n \\n \\n Financial Assistant/Scholarships Degree Verification Program Academic Calendar Code of Conduct Grading Student Chapters \\n \\n \\n IEEE-NUCES \\n \\n \\n NUCES-ACM IEEE-NUCES NUCES-ACM Rules & Regulations \\n \\n \\n Bachelor Programs \\n \\n \\n PhD Programs Bachelor Programs PhD Programs Flex Student Module Phd Graduates Financial Assistant/Scholarships University \\n \\n \\n History \\n \\n \\n Foundation \\n \\n \\n Chancellor \\n \\n \\n Vision & Mission Statement \\n \\n \\n Board of Trustees \\n \\n \\n Board of Governors \\n \\n \\n Officers of the University \\n \\n \\n Headquarters \\n \\n \\n PhD Faculty \\n \\n \\n HEC Approved PhD Supervisor \\n \\n \\n PhD Thesis Reviewers \\n \\n \\n Policies History Foundation Chancellor Vision & Mission Statement Board of Trustees Board of Governors Officers of the University Headquarters PhD Faculty HEC Approved PhD Supervisor PhD Thesis Reviewers Policies Services \\n \\n \\n FAST-NU Library \\n \\n \\n Alumni \\n \\n \\n OSAF \\n \\n \\n \\n \\n Job Portal \\n \\n \\n NU Mail \\n \\n \\n SLATE-LMS \\n \\n \\n Career Services Office \\n \\n \\n Public Information Officer \\n \\n \\n Downloads FAST-NU Library Alumni \\n \\n \\n OSAF OSAF Job Portal NU Mail SLATE-LMS Career Services Office Public Information Officer Downloads ORIC \\n \\n \\n Home \\n \\n \\n university research profile   New   \\n \\n \\n Research funded projects \\n \\n \\n Funding Opportunities \\n \\n \\n Funded Projects \\n \\n \\n \\n \\n Innovation & Commercialization \\n \\n \\n Consultancy projects \\n \\n \\n Incubation Facilities \\n \\n \\n Entrepreneurs \\n \\n \\n Patent \\n \\n \\n Research Labs \\n \\n \\n \\n \\n Capacity Building \\n \\n \\n Conference/Seminar \\n \\n \\n Travel Grants \\n \\n \\n \\n \\n Policies \\n \\n \\n Photo Gallery \\n \\n \\n Announcements \\n \\n \\n Scholarships \\n \\n \\n Downloads \\n \\n \\n Forms \\n \\n \\n \\n \\n Team Home university research profile   New Research funded projects \\n \\n \\n Funding Opportunities \\n \\n \\n Funded Projects Funding Opportunities Funded Projects Innovation & Commercialization \\n \\n \\n Consultancy projects \\n \\n \\n Incubation Facilities \\n \\n \\n Entrepreneurs \\n \\n \\n Patent \\n \\n \\n Research Labs Consultancy projects Incubation Facilities Entrepreneurs Patent Research Labs Capacity Building \\n \\n \\n Conference/Seminar \\n \\n \\n Travel Grants Conference/Seminar Travel Grants Policies Photo Gallery Announcements Scholarships Downloads \\n \\n \\n Forms Forms Team Executive Education \\n \\n \\n CoEE Home \\n \\n \\n Training & development programs \\n \\n \\n FAST Practitioner Certification Programs \\n \\n \\n Fintech Certified Practitioner Program-FAST®FCP \\n \\n \\n People Analytics Certified Practitioner-FAST®PACP \\n \\n \\n Certified Entrepreneur in Practice-FAST®CEiP CoEE Home Training & development programs FAST Practitioner Certification Programs \\n \\n \\n Fintech Certified Practitioner Program-FAST®FCP \\n \\n \\n People Analytics Certified Practitioner-FAST®PACP \\n \\n \\n Certified Entrepreneur in Practice-FAST®CEiP Fintech Certified Practitioner Program-FAST®FCP People Analytics Certified Practitioner-FAST®PACP Certified Entrepreneur in Practice-FAST®CEiP QEC \\n \\n \\n Home \\n \\n \\n Team \\n \\n \\n Accreditation \\n \\n \\n Self Assessment \\n \\n \\n Team \\n \\n \\n Status \\n \\n \\n \\n \\n Capacity Building \\n \\n \\n Contribution \\n \\n \\n Participation \\n \\n \\n Faculty Training \\n \\n \\n QEC Meetings \\n \\n \\n Annual Activity Calendar \\n \\n \\n Capacity Building Calendar \\n \\n \\n \\n \\n Publications \\n \\n \\n Photo Gallery \\n \\n \\n SSAPI \\n \\n \\n Downloads \\n \\n \\n NU Membership Home Team Accreditation Self Assessment \\n \\n \\n Team \\n \\n \\n Status Team Status Capacity Building \\n \\n \\n Contribution \\n \\n \\n Participation \\n \\n \\n Faculty Training \\n \\n \\n QEC Meetings \\n \\n \\n Annual Activity Calendar \\n \\n \\n Capacity Building Calendar Contribution Participation Faculty Training QEC Meetings Annual Activity Calendar Capacity Building Calendar Publications Photo Gallery SSAPI Downloads NU Membership Career Contact Us Home Admissions Scholarship Contact: 111-128-128 Location: FAST-House \\n Rohtas Road, G-9/4 \\n Islamabad - 44000 Programs PEEF NU Mail Careers OSAF Degree Verification SLATE-LMS ORIC QEC Contact Us FAST-NU Library Chiniot-Faisalabad Campus Islamabad Campus Karachi Campus Lahore Campus Peshawar Campus\""
      ]
     },
     "execution_count": 3,
     "metadata": {},
     "output_type": "execute_result"
    }
   ],
   "source": [
    "scrp.scrape_website(url=url)"
   ]
  },
  {
   "cell_type": "code",
   "execution_count": 7,
   "metadata": {},
   "outputs": [],
   "source": [
    "rag = RetrievalAugmentedGeneration()\n",
    "rag.Load_embed()"
   ]
  },
  {
   "cell_type": "code",
   "execution_count": 8,
   "metadata": {},
   "outputs": [
    {
     "name": "stdout",
     "output_type": "stream",
     "text": [
      "The token has not been saved to the git credentials helper. Pass `add_to_git_credential=True` in this function directly or `--add-to-git-credential` if using via `huggingface-cli` if you want to set the git credential as well.\n",
      "Token is valid (permission: fineGrained).\n",
      "Your token has been saved to /home/junaid-ul-hassan/.cache/huggingface/token\n",
      "Login successful\n"
     ]
    }
   ],
   "source": [
    "rag.Load_LLM()"
   ]
  },
  {
   "cell_type": "code",
   "execution_count": 9,
   "metadata": {},
   "outputs": [
    {
     "name": "stdout",
     "output_type": "stream",
     "text": [
      "1. Visit the University's website at admissions.nu.edu.pk or www.nu.edu.pk to access the online application.\n",
      "        2. Follow the instructions provided to fill out your personal details, educational background, and select your desired program (BBA, BS, MS, MBA, or PhD).\n",
      "        3. Submit the necessary documents, including your No Objection Certificate (for foreign nationals), SAT or GRE scores (if applicable), and any other required documents.\n",
      "        4. Pay the application fee and submit your application.</s>\n"
     ]
    }
   ],
   "source": [
    "print(rag.generateResponse(prompt=\"Summer\"))"
   ]
  },
  {
   "cell_type": "code",
   "execution_count": 18,
   "metadata": {},
   "outputs": [
    {
     "name": "stdout",
     "output_type": "stream",
     "text": [
      "Human: How are to apply for univeristy?\n",
      "AI: 1. Visit the University's website at admissions.nu.edu.pk or www.nu.edu.pk to access the online application.\n",
      "        2. Follow the instructions provided to fill out your personal details, educational background, and select your desired program (BBA, BS, MS, MBA, or PhD).\n",
      "        3. Submit the necessary documents, including your No Objection Certificate (for foreign nationals), SAT or GRE scores (if applicable), and any other required documents.\n",
      "        4. Pay the application fee and submit your application.</s>\n"
     ]
    }
   ],
   "source": [
    "print(rag.window_mem.buffer_as_str)"
   ]
  },
  {
   "cell_type": "code",
   "execution_count": null,
   "metadata": {},
   "outputs": [],
   "source": []
  },
  {
   "cell_type": "code",
   "execution_count": null,
   "metadata": {},
   "outputs": [],
   "source": []
  },
  {
   "cell_type": "code",
   "execution_count": null,
   "metadata": {},
   "outputs": [],
   "source": []
  }
 ],
 "metadata": {
  "kernelspec": {
   "display_name": "Python 3 (ipykernel)",
   "language": "python",
   "name": "python3"
  },
  "language_info": {
   "codemirror_mode": {
    "name": "ipython",
    "version": 3
   },
   "file_extension": ".py",
   "mimetype": "text/x-python",
   "name": "python",
   "nbconvert_exporter": "python",
   "pygments_lexer": "ipython3",
   "version": "3.11.7"
  }
 },
 "nbformat": 4,
 "nbformat_minor": 4
}
