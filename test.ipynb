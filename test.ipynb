{
 "cells": [
  {
   "cell_type": "code",
   "execution_count": 1,
   "metadata": {},
   "outputs": [],
   "source": [
    "from scrap import Scraper"
   ]
  },
  {
   "cell_type": "code",
   "execution_count": 2,
   "metadata": {},
   "outputs": [],
   "source": [
    "url = \"https://admissions.comsats.edu.pk/Home/AboutComsats\"\n",
    "scrp = Scraper(url)"
   ]
  },
  {
   "cell_type": "code",
   "execution_count": 3,
   "metadata": {},
   "outputs": [
    {
     "name": "stdout",
     "output_type": "stream",
     "text": [
      "COMSATS University Islamabad (CUI), a leading Degree Awarding Institution of higher education in Pakistan, is among the Centers of Excellence of Commission on Science and Technology for Sustainable Development in the South (COMSATS) www.comsats.org. Established in 1998, CUI is one of the fast growing research - based institutions in Pakistan, with a wide range of academic programs (ranging from basic sciences to cutting edge emerging technologies) and a network of inter-disciplinary research centers making it an ideal place for higher studies leading to MS and PhD degrees. Since its establishment, CUI has made multi-faceted growth in terms of campuses (currently it has eight fully functional campuses), number of students, faculty members, academic programs, research output, and public outreach, to accomplish its three-fold stated mission, i.e., Research and Discovery, Teaching and Learning, and Outreach and Public Service, which makes it a popular choice for undergraduate as well as graduate programs. Further, CUI is currently ranked at Number 03 position in General Universities of Pakistan, at Number 01 position in Computer Science and IT and has also been ranked Number 02 in Research Productivity in Pakistan as announced by Higher Education Commission (HEC Ranking 2015, issued in February 2016). Recently, CUI has also been ranked among top 250 Asian Universities as well. The  Times Higher Education World University Rankings 2019  includes more than 1,250 universities and COMSATS is only University from Pakistan ranked 600-800 in overall ranking. COMSATS is also ranked 401-500 in the 2019 THE Computer Science Subject Ranking and ranked 301-400 in the 2019 THE Engineering and Technology Subject Ranking. Academic Ranking of World Universities (ARWU) is considered among the three most authentic and widely revered university rankings besides QS World University Rankings and Times Higher Education World University Rankings. It is published by the Shanghai Ranking consultancy. Only four Pakistani universities made it to the ARWU 2018 Rankings, but each remained far away from the elusive top 500 club. The top ranked Pakistani university in the list was COMSATS University, placed in the 601-700 band of the ranking. As per  QS Universities ranking  COMSATS was the second best Pakistani university on the list, claiming a place in the 401-450 band in the engineering and technology broad category. The university scored highly for the number of citations per paper and academic reputation. During the last 15 years, CUI has witnessed a phenomenal growth to an extent that it would perhaps not be out of place to say that CUI has been one of the fastest growing educational institutions of the decade. All through these years, various external bodies have evaluated CUI and the quality of its programs, based on very stringent quality and professional standards. The most important independent entities and regulatory bodies evaluating CUI and its programs are the Higher Education Commission (HEC), the Pakistan Engineering Council (PEC), National Computing Education Accreditation Council (NCEAC), and the Institute of Scientific Information (ISI) Web of Knowledge. It is a matter of pride for the CUI that it has been able to record remarkable achievements in terms of ranking of its Engineering degree programs as well as research productivity of the faculty members. The various rankings, year wise are listed below for the interest of CUI stakeholders. In February 2016, University Rankings for the year 2015 were announced by HEC. CUI has been ranked at No.3 in the General Category, and at No. 6 in overall universities within Pakistan as ranked by HEC. In May 2015, University Rankings for the year 2014 were announced by HEC. CUI has been ranked at No.2 in the General Category, and at No. 4 in overall universities within Pakistan as ranked by HE. CUI earned yet another singular honor in the year 2015 to be first ever Pakistani Higher Education Institution to have successfully crossed the psychological barrier by producing high quality research publications totaling more than 1,000 in a single year. According to the Thomson-Reuters Web of knowledge database, CUI’s research publications amount to 1212. And according to the bibliometric data from Elsevier’s Scopus database, the number of research publications is 1307. In May 2014, the CUI attained position in 201-250 range of top Asian Universities by QS Asian University Rankings. In these Asian University Rankings, 10 institutions from Pakistan including CUI are among top 300 in Asia. In 2013, Higher Education Commission (HEC) announced Quality and Research based Rankings of Pakistani Higher Education Institutes where CUI has been ranked at number 4 in General Universities (Large) category among all 132 universities of Pakistan. Besides, CUI earned an overall 3 stars rating out of a total of Five by QS. Click  here  for details. Park Road, Tarlai Kalan  \n",
      "                            Islamabad 45550, PAKISTAN.\n"
     ]
    }
   ],
   "source": [
    "print(scrp.scrape_website())"
   ]
  },
  {
   "cell_type": "code",
   "execution_count": 4,
   "metadata": {},
   "outputs": [],
   "source": [
    "from RAG_QnA import RAG_Model"
   ]
  },
  {
   "cell_type": "code",
   "execution_count": 5,
   "metadata": {},
   "outputs": [
    {
     "name": "stderr",
     "output_type": "stream",
     "text": [
      "2024-07-29 12:02:06.676025: E external/local_xla/xla/stream_executor/cuda/cuda_fft.cc:485] Unable to register cuFFT factory: Attempting to register factory for plugin cuFFT when one has already been registered\n",
      "2024-07-29 12:02:06.698098: E external/local_xla/xla/stream_executor/cuda/cuda_dnn.cc:8454] Unable to register cuDNN factory: Attempting to register factory for plugin cuDNN when one has already been registered\n",
      "2024-07-29 12:02:06.704540: E external/local_xla/xla/stream_executor/cuda/cuda_blas.cc:1452] Unable to register cuBLAS factory: Attempting to register factory for plugin cuBLAS when one has already been registered\n",
      "2024-07-29 12:02:07.968337: W tensorflow/compiler/tf2tensorrt/utils/py_utils.cc:38] TF-TRT Warning: Could not find TensorRT\n"
     ]
    },
    {
     "name": "stdout",
     "output_type": "stream",
     "text": [
      "The token has not been saved to the git credentials helper. Pass `add_to_git_credential=True` in this function directly or `--add-to-git-credential` if using via `huggingface-cli` if you want to set the git credential as well.\n",
      "Token is valid (permission: fineGrained).\n",
      "Your token has been saved to /home/junaid-ul-hassan/.cache/huggingface/token\n",
      "Login successful\n"
     ]
    }
   ],
   "source": [
    "rag_model = RAG_Model()"
   ]
  },
  {
   "cell_type": "code",
   "execution_count": null,
   "metadata": {},
   "outputs": [
    {
     "name": "stderr",
     "output_type": "stream",
     "text": [
      "Number of requested results 50 is greater than number of elements in index 6, updating n_results = 6\n"
     ]
    }
   ],
   "source": [
    "print(rag_model.generateResponse(prompt=\"What is Admission dates for Comsates?\"))"
   ]
  },
  {
   "cell_type": "code",
   "execution_count": 21,
   "metadata": {},
   "outputs": [],
   "source": []
  },
  {
   "cell_type": "code",
   "execution_count": null,
   "metadata": {},
   "outputs": [],
   "source": []
  },
  {
   "cell_type": "code",
   "execution_count": null,
   "metadata": {},
   "outputs": [],
   "source": []
  },
  {
   "cell_type": "code",
   "execution_count": null,
   "metadata": {},
   "outputs": [],
   "source": []
  }
 ],
 "metadata": {
  "kernelspec": {
   "display_name": "Python 3 (ipykernel)",
   "language": "python",
   "name": "python3"
  },
  "language_info": {
   "codemirror_mode": {
    "name": "ipython",
    "version": 3
   },
   "file_extension": ".py",
   "mimetype": "text/x-python",
   "name": "python",
   "nbconvert_exporter": "python",
   "pygments_lexer": "ipython3",
   "version": "3.11.7"
  }
 },
 "nbformat": 4,
 "nbformat_minor": 4
}
