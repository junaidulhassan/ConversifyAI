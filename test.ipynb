{
 "cells": [
  {
   "cell_type": "code",
   "execution_count": 1,
   "metadata": {},
   "outputs": [],
   "source": [
    "from scrap import Scraper"
   ]
  },
  {
   "cell_type": "code",
   "execution_count": 2,
   "metadata": {},
   "outputs": [],
   "source": [
    "url = \"https://www.geeksforgeeks.org/data-structures/\"\n",
    "scrp = Scraper(url)"
   ]
  },
  {
   "cell_type": "code",
   "execution_count": 3,
   "metadata": {},
   "outputs": [],
   "source": [
    "scrp.scrape_website()"
   ]
  },
  {
   "cell_type": "code",
   "execution_count": null,
   "metadata": {},
   "outputs": [],
   "source": []
  },
  {
   "cell_type": "code",
   "execution_count": 1,
   "metadata": {},
   "outputs": [],
   "source": [
    "from RAG import Retrieval_Augmented_Generation"
   ]
  },
  {
   "cell_type": "code",
   "execution_count": 2,
   "metadata": {},
   "outputs": [
    {
     "name": "stderr",
     "output_type": "stream",
     "text": [
      "/home/junaid-ul-hassan/anaconda3/lib/python3.11/site-packages/langchain_core/_api/deprecation.py:119: LangChainDeprecationWarning: The class `HuggingFaceEmbeddings` was deprecated in LangChain 0.2.2 and will be removed in 0.3.0. An updated version of the class exists in the langchain-huggingface package and should be used instead. To use it run `pip install -U langchain-huggingface` and import as `from langchain_huggingface import HuggingFaceEmbeddings`.\n",
      "  warn_deprecated(\n",
      "2024-07-27 12:49:06.595961: E external/local_xla/xla/stream_executor/cuda/cuda_fft.cc:485] Unable to register cuFFT factory: Attempting to register factory for plugin cuFFT when one has already been registered\n",
      "2024-07-27 12:49:06.630559: E external/local_xla/xla/stream_executor/cuda/cuda_dnn.cc:8454] Unable to register cuDNN factory: Attempting to register factory for plugin cuDNN when one has already been registered\n",
      "2024-07-27 12:49:06.639642: E external/local_xla/xla/stream_executor/cuda/cuda_blas.cc:1452] Unable to register cuBLAS factory: Attempting to register factory for plugin cuBLAS when one has already been registered\n",
      "2024-07-27 12:49:08.557304: W tensorflow/compiler/tf2tensorrt/utils/py_utils.cc:38] TF-TRT Warning: Could not find TensorRT\n"
     ]
    }
   ],
   "source": [
    "rag = Retrieval_Augmented_Generation()"
   ]
  },
  {
   "cell_type": "code",
   "execution_count": 3,
   "metadata": {},
   "outputs": [],
   "source": [
    "db = rag.VectorDatabase()"
   ]
  },
  {
   "cell_type": "code",
   "execution_count": 5,
   "metadata": {},
   "outputs": [
    {
     "data": {
      "text/plain": [
       "[Document(page_content='linear data structure that follows the First-In-First-Out (FIFO) principle. It operates like a line where elements are added at one\\nend ( rear ) and removed from the other end ( front ). Queues can be implemented using Two techniques:\\nQuick Links: Recommended: H Queue Data Structure Last Updated : 11 May, 2024 Comments Improve Summarize Suggest changes Like Article\\nLike Save Share Report A Queue Data Structure is a fundamental concept in computer science used for storing and managing', metadata={'source': '/media/junaid-ul-hassan/248ac48e-ccd4-4707-a28b-33cb7a46e6dc/LLMs Projects/Web_pilot/text_file.txt/text_file.txt'}),\n",
       " Document(page_content='linear data structure that follows the First-In-First-Out (FIFO) principle. It operates like a line where elements are added at one\\nend ( rear ) and removed from the other end ( front ). Queues can be implemented using Two techniques:\\nQuick Links: Recommended: H Queue Data Structure Last Updated : 11 May, 2024 Comments Improve Summarize Suggest changes Like Article\\nLike Save Share Report A Queue Data Structure is a fundamental concept in computer science used for storing and managing', metadata={'source': '/media/junaid-ul-hassan/248ac48e-ccd4-4707-a28b-33cb7a46e6dc/LLMs Projects/Web_pilot/text_file.txt/text_file.txt'}),\n",
       " Document(page_content='Queue Data Structure A Queue Data Structure is a fundamental concept in computer science used for storing and managing data\\nin a specific order. It follows the principle of “ First in, First out ” (FIFO) , where the first\\nelement added to the queue is the first one to be removed. Queues are commonly used in various algorithms and\\napplications for their simplicity and efficiency in managing data flow. Queue Data Structure Table of Content A queue is a', metadata={'source': '/media/junaid-ul-hassan/248ac48e-ccd4-4707-a28b-33cb7a46e6dc/LLMs Projects/Web_pilot/text_file.txt/text_file.txt'}),\n",
       " Document(page_content='Queue Data Structure A Queue Data Structure is a fundamental concept in computer science used for storing and managing data\\nin a specific order. It follows the principle of “ First in, First out ” (FIFO) , where the first\\nelement added to the queue is the first one to be removed. Queues are commonly used in various algorithms and\\napplications for their simplicity and efficiency in managing data flow. Queue Data Structure Table of Content A queue is a', metadata={'source': '/media/junaid-ul-hassan/248ac48e-ccd4-4707-a28b-33cb7a46e6dc/LLMs Projects/Web_pilot/text_file.txt/text_file.txt'})]"
      ]
     },
     "execution_count": 5,
     "metadata": {},
     "output_type": "execute_result"
    }
   ],
   "source": [
    "db.similarity_search(\"What is Data structure?\")"
   ]
  },
  {
   "cell_type": "code",
   "execution_count": null,
   "metadata": {},
   "outputs": [],
   "source": []
  },
  {
   "cell_type": "code",
   "execution_count": null,
   "metadata": {},
   "outputs": [],
   "source": []
  },
  {
   "cell_type": "code",
   "execution_count": null,
   "metadata": {},
   "outputs": [],
   "source": []
  }
 ],
 "metadata": {
  "kernelspec": {
   "display_name": "base",
   "language": "python",
   "name": "python3"
  },
  "language_info": {
   "codemirror_mode": {
    "name": "ipython",
    "version": 3
   },
   "file_extension": ".py",
   "mimetype": "text/x-python",
   "name": "python",
   "nbconvert_exporter": "python",
   "pygments_lexer": "ipython3",
   "version": "3.11.7"
  }
 },
 "nbformat": 4,
 "nbformat_minor": 2
}
